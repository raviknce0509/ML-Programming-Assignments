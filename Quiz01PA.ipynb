{
  "nbformat": 4,
  "nbformat_minor": 0,
  "metadata": {
    "colab": {
      "provenance": [],
      "include_colab_link": true
    },
    "kernelspec": {
      "name": "python3",
      "display_name": "Python 3"
    },
    "language_info": {
      "name": "python"
    }
  },
  "cells": [
    {
      "cell_type": "markdown",
      "metadata": {
        "id": "view-in-github",
        "colab_type": "text"
      },
      "source": [
        "<a href=\"https://colab.research.google.com/github/raviknce0509/ML-Programming-Assignments/blob/main/Quiz01PA.ipynb\" target=\"_parent\"><img src=\"https://colab.research.google.com/assets/colab-badge.svg\" alt=\"Open In Colab\"/></a>"
      ]
    },
    {
      "cell_type": "code",
      "execution_count": null,
      "metadata": {
        "id": "8WgRiqzaDXec"
      },
      "outputs": [],
      "source": [
        "import numpy as np\n",
        "import pandas as pd\n",
        "from sklearn.datasets import load_breast_cancer"
      ]
    },
    {
      "cell_type": "code",
      "source": [
        "#Load the data\n",
        "CancerDataset = load_breast_cancer()\n",
        "\n",
        "# covert the dataset to a DataFrame\n",
        "def getDataFrame(dataset):\n",
        "  numData = dataset['target'].shape[0]\n",
        "  newDataset = np.concatenate((dataset['data'], dataset['target'].reshape(numData, -1)), axis=1)\n",
        "  newNames = np.append(dataset['feature_names'], ['target'])\n",
        "  return pd.DataFrame(newDataset, columns=newNames)\n",
        "\n",
        "DataFrame = getDataFrame(CancerDataset)"
      ],
      "metadata": {
        "id": "p8r_k19NDlYd"
      },
      "execution_count": null,
      "outputs": []
    },
    {
      "cell_type": "code",
      "source": [
        "# Data split\n",
        "from sklearn.model_selection import train_test_split\n",
        "def splitData(df, size):\n",
        "  X, y = df[df.columns[:-1]], df.target\n",
        "  X_train, X_test, y_train, y_test = train_test_split(X, y, train_size=size, test_size=X.shape[0] - size, random_state=0)\n",
        "  return (X_train, y_train), (X_test, y_test)\n",
        "\n",
        "(X_train, y_train), (X_test, y_test) = splitData(DataFrame, 400)\n",
        "assert X_train.shape == (400, 30)\n",
        "assert y_train.shape == (400, )\n"
      ],
      "metadata": {
        "id": "XSQQWndIDpZ8"
      },
      "execution_count": null,
      "outputs": []
    },
    {
      "cell_type": "code",
      "source": [
        "# Training\n",
        "from sklearn.neighbors import KNeighborsClassifier\n",
        "def trainKnn(X, y, k=1):\n",
        "  model = KNeighborsClassifier(n_neighbors=k)\n",
        "  model.fit(X, y)\n",
        "  pred = model.predict(X)\n",
        "  accuracy = sum(pred == y) / len(X)    \n",
        "  return model, accuracy"
      ],
      "metadata": {
        "id": "kbmIIp3gDrzK"
      },
      "execution_count": null,
      "outputs": []
    },
    {
      "cell_type": "code",
      "source": [
        "# Test\n",
        "def testKnn(model, X, y):\n",
        "  pred = model.predict(X)\n",
        "  accuracy = sum(pred == y) / len(X)\n",
        "  return accuracy "
      ],
      "metadata": {
        "id": "V0bMD54PDuXk"
      },
      "execution_count": null,
      "outputs": []
    },
    {
      "cell_type": "code",
      "source": [
        "# Students' implementation\n",
        "from collections import Counter\n",
        "class MyKNeighborsClassifier:\n",
        "  X_train = None\n",
        "  y_train = None\n",
        "\n",
        "  def __init__(self, n_neighbors):\n",
        "    self.k = n_neighbors\n",
        "\n",
        "  @staticmethod\n",
        "  def distance(src, dst):\n",
        "    ######################################################\n",
        "    # TO-DO: Return the Euclidean distance. \n",
        "\n",
        "    return np.sqrt(np.sum(np.square(src - dst)))\n",
        "    ######################################################\n",
        "\n",
        "  def fit(self, X, y):\n",
        "    # Convert training data to numpy array.\n",
        "    # There is nothing to do more for kNN as it avoids explicit generalization.\n",
        "    self.X_train = np.array(X)\n",
        "    self.y_train = np.array(y)    \n",
        "    \n",
        "  ## Predict the label for just one example.\n",
        "  def predict_one(self, x):\n",
        "    # Measure the distance to each of training data.\n",
        "    # Then sort by increasing order of distances.\n",
        "    distances = []\n",
        "    for (i, x_train) in enumerate(self.X_train):      \n",
        "      distances.append([i, self.distance(x, x_train)])      \n",
        "    distances.sort(key=lambda element: element[1])\n",
        "\n",
        "    ########################################################################\n",
        "    # TO-DO: Extract the indexes of the examples in the k-Nearest Neighbors.    \n",
        "    \n",
        "    kNN = [i[0] for i in distances]\n",
        "    \n",
        "    ########################################################################\n",
        "    \n",
        "    # Extract k target values corresponding to the example indexes in kNN.    \n",
        "    targets = [self.y_train[i] for i in kNN]\n",
        "    \n",
        "    # Return the majority-voted target value.\n",
        "    return Counter(targets).most_common(1)[0][0]\n",
        "  \n",
        "  ## Predict the labels for every example.\n",
        "  def predict(self, X):    \n",
        "    predictions = []\n",
        "    for (i, x) in enumerate(np.array(X)):\n",
        "      predictions.append(self.predict_one(x))\n",
        "    return np.asarray(predictions)"
      ],
      "metadata": {
        "id": "CBQZpxezDzZw"
      },
      "execution_count": null,
      "outputs": []
    },
    {
      "cell_type": "code",
      "source": [
        "# students' Train Knn\n",
        "def myTrainKnn(X, y, k=1):\n",
        "  model = MyKNeighborsClassifier(n_neighbors=k)\n",
        "  model.fit(X, y)\n",
        "  pred = model.predict(X)\n",
        "  accuracy = sum(pred == y) / len(X)    \n",
        "  return model, accuracy\n",
        "\n",
        "def myTestKnn(model, X, y):\n",
        "  pred = model.predict(X)\n",
        "  accuracy = sum(pred == y) / len(X)\n",
        "  return accuracy\n"
      ],
      "metadata": {
        "id": "QAufsOzCECB5"
      },
      "execution_count": null,
      "outputs": []
    },
    {
      "cell_type": "code",
      "source": [
        "# Use the main function to test your code when running it from a terminal\n",
        "def main():\n",
        "\t# test the built-in KNeighborsClassifier\n",
        "\tfor k in range(1, 20):\n",
        "\t\tModel_k, Acc_train = trainKnn(X_train, y_train, k)\n",
        "\t\tAcc_test = testKnn(Model_k, X_test, y_test)\n",
        "\t\tprint('%d-NN --> training accuracy = %.4f  /  test accuracy = %.4f' % (k, Acc_train, Acc_test))\n",
        "\t\n",
        "  # test the KNN implemented by yourself\n",
        "\tfor k in range(1, 20):\n",
        "\t\tModel_k, Acc_train = myTrainKnn(X_train, y_train, k)\n",
        "\t\tAcc_test = myTestKnn(Model_k, X_test, y_test)\n",
        "\t\tprint('%d-NN --> training accuracy = %.4f  /  test accuracy = %.4f' % (k, Acc_train, Acc_test))\n",
        "\n"
      ],
      "metadata": {
        "id": "avoo8gxkEJwn"
      },
      "execution_count": null,
      "outputs": []
    },
    {
      "cell_type": "code",
      "source": [
        "################ Do not make any changes below this line ################\n",
        "if __name__ == '__main__':\n",
        "\tmain()"
      ],
      "metadata": {
        "colab": {
          "base_uri": "https://localhost:8080/"
        },
        "id": "5mTvGWo-EMhI",
        "outputId": "07bb0980-6cb7-4344-a030-ff25d9dd61de"
      },
      "execution_count": null,
      "outputs": [
        {
          "output_type": "stream",
          "name": "stdout",
          "text": [
            "1-NN --> training accuracy = 1.0000  /  test accuracy = 0.9172\n",
            "2-NN --> training accuracy = 0.9625  /  test accuracy = 0.8994\n",
            "3-NN --> training accuracy = 0.9525  /  test accuracy = 0.9172\n",
            "4-NN --> training accuracy = 0.9475  /  test accuracy = 0.9290\n",
            "5-NN --> training accuracy = 0.9400  /  test accuracy = 0.9467\n",
            "6-NN --> training accuracy = 0.9325  /  test accuracy = 0.9349\n",
            "7-NN --> training accuracy = 0.9375  /  test accuracy = 0.9527\n",
            "8-NN --> training accuracy = 0.9375  /  test accuracy = 0.9527\n",
            "9-NN --> training accuracy = 0.9325  /  test accuracy = 0.9586\n",
            "10-NN --> training accuracy = 0.9325  /  test accuracy = 0.9527\n",
            "11-NN --> training accuracy = 0.9350  /  test accuracy = 0.9645\n",
            "12-NN --> training accuracy = 0.9350  /  test accuracy = 0.9645\n",
            "13-NN --> training accuracy = 0.9300  /  test accuracy = 0.9645\n",
            "14-NN --> training accuracy = 0.9300  /  test accuracy = 0.9645\n",
            "15-NN --> training accuracy = 0.9325  /  test accuracy = 0.9645\n",
            "16-NN --> training accuracy = 0.9300  /  test accuracy = 0.9645\n",
            "17-NN --> training accuracy = 0.9325  /  test accuracy = 0.9645\n",
            "18-NN --> training accuracy = 0.9350  /  test accuracy = 0.9645\n",
            "19-NN --> training accuracy = 0.9250  /  test accuracy = 0.9645\n",
            "1-NN --> training accuracy = 0.6275  /  test accuracy = 0.6272\n",
            "2-NN --> training accuracy = 0.6275  /  test accuracy = 0.6272\n",
            "3-NN --> training accuracy = 0.6275  /  test accuracy = 0.6272\n",
            "4-NN --> training accuracy = 0.6275  /  test accuracy = 0.6272\n",
            "5-NN --> training accuracy = 0.6275  /  test accuracy = 0.6272\n",
            "6-NN --> training accuracy = 0.6275  /  test accuracy = 0.6272\n",
            "7-NN --> training accuracy = 0.6275  /  test accuracy = 0.6272\n",
            "8-NN --> training accuracy = 0.6275  /  test accuracy = 0.6272\n",
            "9-NN --> training accuracy = 0.6275  /  test accuracy = 0.6272\n",
            "10-NN --> training accuracy = 0.6275  /  test accuracy = 0.6272\n",
            "11-NN --> training accuracy = 0.6275  /  test accuracy = 0.6272\n",
            "12-NN --> training accuracy = 0.6275  /  test accuracy = 0.6272\n",
            "13-NN --> training accuracy = 0.6275  /  test accuracy = 0.6272\n",
            "14-NN --> training accuracy = 0.6275  /  test accuracy = 0.6272\n",
            "15-NN --> training accuracy = 0.6275  /  test accuracy = 0.6272\n",
            "16-NN --> training accuracy = 0.6275  /  test accuracy = 0.6272\n",
            "17-NN --> training accuracy = 0.6275  /  test accuracy = 0.6272\n",
            "18-NN --> training accuracy = 0.6275  /  test accuracy = 0.6272\n",
            "19-NN --> training accuracy = 0.6275  /  test accuracy = 0.6272\n"
          ]
        }
      ]
    }
  ]
}