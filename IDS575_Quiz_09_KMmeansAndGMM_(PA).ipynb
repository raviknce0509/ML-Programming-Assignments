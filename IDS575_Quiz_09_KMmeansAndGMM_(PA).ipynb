{
  "nbformat": 4,
  "nbformat_minor": 0,
  "metadata": {
    "kernelspec": {
      "display_name": "Python 3",
      "language": "python",
      "name": "python3"
    },
    "language_info": {
      "codemirror_mode": {
        "name": "ipython",
        "version": 3
      },
      "file_extension": ".py",
      "mimetype": "text/x-python",
      "name": "python",
      "nbconvert_exporter": "python",
      "pygments_lexer": "ipython3",
      "version": "3.8.3"
    },
    "colab": {
      "provenance": [],
      "include_colab_link": true
    }
  },
  "cells": [
    {
      "cell_type": "markdown",
      "metadata": {
        "id": "view-in-github",
        "colab_type": "text"
      },
      "source": [
        "<a href=\"https://colab.research.google.com/github/raviknce0509/ML-Programming-Assignments/blob/main/IDS575_Quiz_09_KMmeansAndGMM_(PA).ipynb\" target=\"_parent\"><img src=\"https://colab.research.google.com/assets/colab-badge.svg\" alt=\"Open In Colab\"/></a>"
      ]
    },
    {
      "cell_type": "markdown",
      "metadata": {
        "id": "Wi_wIVzzbJIU"
      },
      "source": [
        "# **IDS575: Machine Learning and Statistical Methods**\n",
        "## [Quiz #09 - K-Means clustering and Gaussian mixture models(PA)]\n",
        "\n"
      ]
    },
    {
      "cell_type": "markdown",
      "source": [
        "\n",
        "<style>\n",
        "H3{color:darkblue !important;font-weight: bold !important}\n",
        "blockquote{background:lightcyan !important; color:black !important;padding:10pt !important;font-weight: bold !important}\n",
        "table{font-size:110%  !important}\n",
        "hr{width: 100% !important; height: 3px !important; background:black !important;}\n",
        "</style>\n",
        "\n",
        " \n",
        "\n",
        "---\n",
        "<h1><center>IDS 575 - Solution PA5 </center></h1>\n",
        "<h1><center>Quiz #09 - K-Means clustering and Gaussian mixture models(PA)<h1><center>\n",
        "\n",
        "| First Name        | Last Name     | UIN       | Email                     |\n",
        "| :---              |    :----:     | :----:    |                   ---:    |\n",
        "               |\n",
        "| Jason| Cheng | 659891642 | jcheng43@uic.edu|\n",
        "| Ravikumar | Nalawade | 670550142 | rnalaw2@uic.edu|\n",
        "| Keerthi | Raguri | 660922370 | kragur2@uic.edu|\n"
      ],
      "metadata": {
        "id": "Izw8Xebl8nIK"
      }
    },
    {
      "cell_type": "markdown",
      "source": [
        "# Connecting Drive to Colab\n",
        "The first thing to do is mounting your Google Drive. This will enable you to access any directory on your Drive inside the Colab notebook."
      ],
      "metadata": {
        "id": "moARpwHCor_L"
      }
    },
    {
      "cell_type": "code",
      "source": [
        "from google.colab import drive\n",
        "drive.mount('/content/drive')"
      ],
      "metadata": {
        "colab": {
          "base_uri": "https://localhost:8080/"
        },
        "id": "Bg3ZNQn1o6Cq",
        "outputId": "a11fc57f-6651-47d5-9973-19fcdfe6ab37"
      },
      "execution_count": 1,
      "outputs": [
        {
          "output_type": "stream",
          "name": "stdout",
          "text": [
            "Mounted at /content/drive\n"
          ]
        }
      ]
    },
    {
      "cell_type": "markdown",
      "source": [
        "Go to the directory of your target file"
      ],
      "metadata": {
        "id": "Ke9q7UTQo-IB"
      }
    },
    {
      "cell_type": "code",
      "source": [
        "%cd /content/drive/MyDrive/UIC/Fall 22/ML/Programming Assignment/PA 5/Final"
      ],
      "metadata": {
        "colab": {
          "base_uri": "https://localhost:8080/"
        },
        "id": "xQUD1xhPpFrU",
        "outputId": "0dd61c94-3e06-49a6-b2c2-33fee0c2774a"
      },
      "execution_count": 3,
      "outputs": [
        {
          "output_type": "stream",
          "name": "stdout",
          "text": [
            "/content/drive/MyDrive/UIC/Fall 22/ML/Programming Assignment/PA 5/Final\n"
          ]
        }
      ]
    },
    {
      "cell_type": "code",
      "source": [
        "!ls"
      ],
      "metadata": {
        "colab": {
          "base_uri": "https://localhost:8080/"
        },
        "id": "cnx5PNEmpaqU",
        "outputId": "ee218ddf-d012-4f5d-9fc2-e7dff206742e"
      },
      "execution_count": 4,
      "outputs": [
        {
          "output_type": "stream",
          "name": "stdout",
          "text": [
            "'IDS575_Quiz_09_KMmeansAndGMM_(PA).ipynb'   WeightAndHeight.csv\n"
          ]
        }
      ]
    },
    {
      "cell_type": "markdown",
      "metadata": {
        "id": "Fs-KJZ7jbJIh"
      },
      "source": [
        "## Import Libraries\n",
        "* See various conventions and acronyms."
      ]
    },
    {
      "cell_type": "code",
      "metadata": {
        "id": "wAKMrSQubJIh"
      },
      "source": [
        "import numpy as np\n",
        "import pandas as pd\n",
        "import matplotlib.pyplot as plt\n",
        "from sklearn.cluster import KMeans\n",
        "import random"
      ],
      "execution_count": 23,
      "outputs": []
    },
    {
      "cell_type": "markdown",
      "metadata": {
        "id": "dINsxbBvbJIi"
      },
      "source": [
        "## Load the data\n",
        "* Verify Python type for the dataset."
      ]
    },
    {
      "cell_type": "code",
      "metadata": {
        "colab": {
          "base_uri": "https://localhost:8080/"
        },
        "id": "SxTBFShOc9xp",
        "outputId": "76f3474d-c6c4-4655-c9a7-75cbc8f46e0e"
      },
      "source": [
        "WHDataset = pd.read_csv('WeightAndHeight.csv')\n",
        "print(type(WHDataset))\n",
        "print(WHDataset.keys())"
      ],
      "execution_count": 6,
      "outputs": [
        {
          "output_type": "stream",
          "name": "stdout",
          "text": [
            "<class 'pandas.core.frame.DataFrame'>\n",
            "Index(['Weight', 'Height'], dtype='object')\n"
          ]
        }
      ]
    },
    {
      "cell_type": "markdown",
      "metadata": {
        "id": "8ooKj4Zwgtld"
      },
      "source": [
        "## Verify basic data statistics\n",
        "* Count the number of features. (i.e., attributes)\n",
        "* Count the number of examples. (i.e., instances and labels)\n",
        "* No class labels"
      ]
    },
    {
      "cell_type": "code",
      "metadata": {
        "colab": {
          "base_uri": "https://localhost:8080/"
        },
        "id": "2ycsrrcXeYx3",
        "outputId": "355b0ba8-8cbb-4fa5-d6c6-f98d52a9388f"
      },
      "source": [
        "def printBasicStats(dataset):\n",
        "  print('- # of features = %d' % (len(dataset.keys())))\n",
        "  print('- # of examples = %d' % len(dataset))\n",
        "  \n",
        "printBasicStats(WHDataset)\n",
        "print(WHDataset)"
      ],
      "execution_count": 7,
      "outputs": [
        {
          "output_type": "stream",
          "name": "stdout",
          "text": [
            "- # of features = 2\n",
            "- # of examples = 500\n",
            "        Weight      Height\n",
            "0    67.062924  176.086355\n",
            "1    68.804094  178.388669\n",
            "2    60.930863  170.284496\n",
            "3    59.733843  168.691992\n",
            "4    65.431230  173.763679\n",
            "..         ...         ...\n",
            "495  59.976983  169.679741\n",
            "496  66.423814  174.625574\n",
            "497  53.604698  161.919208\n",
            "498  50.433644  160.794875\n",
            "499  60.224392  169.689709\n",
            "\n",
            "[500 rows x 2 columns]\n"
          ]
        }
      ]
    },
    {
      "cell_type": "markdown",
      "source": [
        "View the summary of X to make sure all features are numerical. K-means is performed only on the numerical data. If you have categorical variables, you need to convert them into integers"
      ],
      "metadata": {
        "id": "Xaysatbkurvx"
      }
    },
    {
      "cell_type": "code",
      "source": [
        "WHDataset.info()"
      ],
      "metadata": {
        "colab": {
          "base_uri": "https://localhost:8080/"
        },
        "id": "TgJGfsfZvMbK",
        "outputId": "d27ed2cb-f36a-49cb-a6a4-309e9da7d967"
      },
      "execution_count": 8,
      "outputs": [
        {
          "output_type": "stream",
          "name": "stdout",
          "text": [
            "<class 'pandas.core.frame.DataFrame'>\n",
            "RangeIndex: 500 entries, 0 to 499\n",
            "Data columns (total 2 columns):\n",
            " #   Column  Non-Null Count  Dtype  \n",
            "---  ------  --------------  -----  \n",
            " 0   Weight  500 non-null    float64\n",
            " 1   Height  500 non-null    float64\n",
            "dtypes: float64(2)\n",
            "memory usage: 7.9 KB\n"
          ]
        }
      ]
    },
    {
      "cell_type": "markdown",
      "metadata": {
        "id": "O-a_Fm2du-mT"
      },
      "source": [
        "## Data inspection\n",
        "* See correlations between features.\n",
        "* Draw heatmap\n"
      ]
    },
    {
      "cell_type": "code",
      "metadata": {
        "id": "zaQuKmCXbJIj",
        "colab": {
          "base_uri": "https://localhost:8080/",
          "height": 338
        },
        "outputId": "2c83f12f-bb6a-47c4-baca-4f97375aa941"
      },
      "source": [
        "print(WHDataset.corr())\n",
        "\n",
        "import seaborn as sns\n",
        "sns.heatmap(WHDataset.corr(), cmap=sns.diverging_palette(220, 10, as_cmap=True))"
      ],
      "execution_count": 9,
      "outputs": [
        {
          "output_type": "stream",
          "name": "stdout",
          "text": [
            "          Weight    Height\n",
            "Weight  1.000000  0.957441\n",
            "Height  0.957441  1.000000\n"
          ]
        },
        {
          "output_type": "execute_result",
          "data": {
            "text/plain": [
              "<matplotlib.axes._subplots.AxesSubplot at 0x7fd6c4ce5e90>"
            ]
          },
          "metadata": {},
          "execution_count": 9
        },
        {
          "output_type": "display_data",
          "data": {
            "text/plain": [
              "<Figure size 432x288 with 2 Axes>"
            ],
            "image/png": "[encoded data removed]"
          },
          "metadata": {
            "needs_background": "light"
          }
        }
      ]
    },
    {
      "cell_type": "markdown",
      "source": [
        "# **1. K-Means**"
      ],
      "metadata": {
        "id": "nKDOaPKAZUTy"
      }
    },
    {
      "cell_type": "markdown",
      "metadata": {
        "id": "WMcdoEH9-6Np"
      },
      "source": [
        "## Using existing library sklearn.cluster.KMeans¶\n",
        "* Use only two columns for visulization\n",
        "* Fit and predict. https://scikit-learn.org/stable/modules/generated/sklearn.cluster.KMeans.html\n",
        "* Find the best number of k.\n"
      ]
    },
    {
      "cell_type": "code",
      "source": [
        "plt.scatter(WHDataset['Weight'],WHDataset['Height'])\n",
        "plt.show()"
      ],
      "metadata": {
        "colab": {
          "base_uri": "https://localhost:8080/",
          "height": 265
        },
        "id": "Ypika44nyGYB",
        "outputId": "16e65408-3bba-446a-f378-a655a95efca2"
      },
      "execution_count": 10,
      "outputs": [
        {
          "output_type": "display_data",
          "data": {
            "text/plain": [
              "<Figure size 432x288 with 1 Axes>"
            ],
            "image/png": "[encoded data removed]"
          },
          "metadata": {
            "needs_background": "light"
          }
        }
      ]
    },
    {
      "cell_type": "code",
      "metadata": {
        "id": "6At9tfyu_wcC",
        "colab": {
          "base_uri": "https://localhost:8080/"
        },
        "outputId": "c155079b-c0d0-4061-be88-5c6789420844"
      },
      "source": [
        "kmeans = KMeans(n_clusters=4, init='random',random_state=5) \n",
        "# initializing methods:\n",
        "# ‘k-means++’ : selects initial cluster centers for k-mean clustering in a smart way to speed up convergence. See section Notes in k_init for more details.\n",
        "# ‘random’: choose n_clusters observations (rows) at random from data for the initial centroids.\n",
        "\n",
        "kmeans.fit(WHDataset)"
      ],
      "execution_count": 11,
      "outputs": [
        {
          "output_type": "execute_result",
          "data": {
            "text/plain": [
              "KMeans(init='random', n_clusters=4, random_state=5)"
            ]
          },
          "metadata": {},
          "execution_count": 11
        }
      ]
    },
    {
      "cell_type": "markdown",
      "source": [
        "**Clustering results**"
      ],
      "metadata": {
        "id": "KLPDvhbh0xwX"
      }
    },
    {
      "cell_type": "code",
      "source": [
        "identified_clusters = kmeans.fit_predict(WHDataset)\n",
        "identified_clusters"
      ],
      "metadata": {
        "colab": {
          "base_uri": "https://localhost:8080/"
        },
        "id": "Mrnqo3u007ot",
        "outputId": "cc9d3878-c425-4af2-d590-833f5f3f28ba"
      },
      "execution_count": 12,
      "outputs": [
        {
          "output_type": "execute_result",
          "data": {
            "text/plain": [
              "array([0, 0, 3, 3, 0, 3, 1, 3, 1, 2, 1, 0, 1, 2, 3, 3, 0, 3, 2, 3, 3, 0,\n",
              "       1, 2, 3, 2, 0, 1, 2, 1, 1, 1, 0, 1, 1, 0, 2, 1, 2, 0, 2, 1, 3, 0,\n",
              "       1, 0, 1, 3, 0, 0, 2, 2, 1, 1, 3, 1, 1, 2, 2, 0, 0, 2, 0, 0, 0, 1,\n",
              "       3, 0, 3, 1, 2, 3, 2, 0, 2, 0, 1, 1, 3, 3, 2, 3, 2, 1, 3, 1, 2, 2,\n",
              "       0, 2, 2, 2, 0, 2, 3, 3, 0, 0, 0, 3, 2, 2, 0, 2, 3, 3, 3, 0, 3, 2,\n",
              "       2, 1, 2, 2, 0, 2, 0, 3, 1, 0, 1, 2, 0, 0, 2, 0, 0, 0, 0, 2, 3, 2,\n",
              "       1, 2, 2, 2, 3, 0, 3, 1, 0, 0, 0, 0, 1, 2, 1, 3, 1, 2, 2, 0, 3, 3,\n",
              "       3, 1, 1, 0, 3, 3, 0, 3, 0, 0, 1, 1, 0, 3, 2, 1, 0, 2, 0, 1, 1, 2,\n",
              "       1, 2, 2, 2, 0, 0, 1, 3, 3, 2, 1, 0, 1, 2, 0, 1, 2, 1, 1, 2, 3, 1,\n",
              "       3, 2, 2, 3, 3, 1, 3, 1, 1, 3, 1, 1, 3, 0, 0, 0, 3, 0, 1, 2, 2, 2,\n",
              "       1, 0, 1, 2, 1, 0, 2, 3, 2, 3, 1, 1, 3, 1, 3, 1, 3, 1, 2, 0, 0, 1,\n",
              "       3, 0, 2, 2, 3, 0, 3, 1, 3, 1, 0, 2, 3, 2, 2, 1, 2, 1, 3, 3, 0, 2,\n",
              "       0, 0, 3, 3, 2, 0, 3, 2, 0, 3, 0, 2, 1, 1, 3, 0, 0, 3, 0, 1, 0, 3,\n",
              "       1, 0, 3, 3, 3, 0, 2, 2, 0, 2, 2, 2, 3, 0, 0, 2, 1, 2, 0, 0, 1, 2,\n",
              "       2, 3, 2, 1, 0, 1, 2, 1, 2, 3, 1, 3, 3, 3, 1, 1, 2, 0, 3, 1, 2, 0,\n",
              "       3, 3, 0, 0, 1, 0, 1, 3, 3, 1, 2, 0, 0, 1, 0, 3, 0, 0, 0, 0, 3, 0,\n",
              "       3, 0, 3, 3, 2, 0, 3, 2, 2, 3, 3, 0, 0, 1, 1, 0, 3, 2, 3, 3, 3, 2,\n",
              "       3, 3, 3, 2, 2, 3, 2, 2, 3, 2, 2, 1, 3, 1, 1, 2, 2, 2, 2, 0, 2, 0,\n",
              "       3, 0, 2, 3, 0, 3, 0, 3, 3, 1, 2, 3, 2, 1, 1, 0, 2, 1, 3, 0, 2, 1,\n",
              "       1, 3, 0, 3, 0, 1, 0, 1, 0, 2, 3, 0, 2, 0, 3, 1, 1, 1, 0, 2, 3, 3,\n",
              "       1, 0, 0, 3, 3, 1, 3, 3, 2, 0, 1, 0, 2, 3, 1, 1, 2, 1, 3, 2, 1, 1,\n",
              "       1, 1, 1, 3, 2, 0, 1, 0, 3, 0, 1, 2, 3, 2, 1, 2, 3, 2, 3, 1, 1, 2,\n",
              "       1, 1, 3, 2, 0, 1, 1, 2, 1, 3, 3, 3, 0, 2, 2, 3], dtype=int32)"
            ]
          },
          "metadata": {},
          "execution_count": 12
        }
      ]
    },
    {
      "cell_type": "code",
      "source": [
        "# plot clusters in different colors\n",
        "data_with_clusters = WHDataset.copy()\n",
        "data_with_clusters['Clusters'] = identified_clusters \n",
        "plt.scatter(data_with_clusters['Weight'],data_with_clusters['Height'],c=data_with_clusters['Clusters'],cmap='rainbow')\n"
      ],
      "metadata": {
        "colab": {
          "base_uri": "https://localhost:8080/",
          "height": 282
        },
        "id": "cxZW8m3b1DTv",
        "outputId": "9d1691d9-cd76-45ec-8d2f-beb6b7f323e8"
      },
      "execution_count": 13,
      "outputs": [
        {
          "output_type": "execute_result",
          "data": {
            "text/plain": [
              "<matplotlib.collections.PathCollection at 0x7fd6c1647890>"
            ]
          },
          "metadata": {},
          "execution_count": 13
        },
        {
          "output_type": "display_data",
          "data": {
            "text/plain": [
              "<Figure size 432x288 with 1 Axes>"
            ],
            "image/png": "[encoded data removed]"
          },
          "metadata": {
            "needs_background": "light"
          }
        }
      ]
    },
    {
      "cell_type": "markdown",
      "metadata": {
        "id": "wbjXDdxhbJIv"
      },
      "source": [
        "## Finding optimum number of clusters"
      ]
    },
    {
      "cell_type": "code",
      "metadata": {
        "id": "8w3UHNSCU74D"
      },
      "source": [
        "clursters_range = [2,3,4,5,6,7,8,9,10]\n",
        "inertias = []\n",
        "\n",
        "for k in clursters_range:\n",
        "  kmeans = KMeans (init='k-means++',n_clusters=k, n_init=100, random_state=0).fit(WHDataset)\n",
        "  inertias.append(kmeans.inertia_) \n",
        "  # kmeans,inertia_ is the Sum of squared distances of samples to their closest cluster center, weighted by the sample weights if provided."
      ],
      "execution_count": 14,
      "outputs": []
    },
    {
      "cell_type": "markdown",
      "source": [
        "**Elbow Method:**\n",
        "Find apoint which represents the most parsimonious balance between minimizing the number of clusters and minimizing the variance within each cluster"
      ],
      "metadata": {
        "id": "epdORpMz3-zM"
      }
    },
    {
      "cell_type": "code",
      "source": [
        "plt.figure()\n",
        "plt.plot(clursters_range, inertias, marker='o')\n",
        "plt.show()"
      ],
      "metadata": {
        "colab": {
          "base_uri": "https://localhost:8080/",
          "height": 265
        },
        "id": "ylAaK_cv3jd1",
        "outputId": "b7d3d3da-18fc-46c3-8eb3-f1fa06754923"
      },
      "execution_count": 15,
      "outputs": [
        {
          "output_type": "display_data",
          "data": {
            "text/plain": [
              "<Figure size 432x288 with 1 Axes>"
            ],
            "image/png": "[encoded data removed]"
          },
          "metadata": {
            "needs_background": "light"
          }
        }
      ]
    },
    {
      "cell_type": "markdown",
      "source": [
        "**Silhouette value Method:**\n",
        "*  use all the columns this time\n",
        "*  we want to have high silhouette coefficient for the number of clusters we want to use\n",
        "\n"
      ],
      "metadata": {
        "id": "LzCKZ48W4afw"
      }
    },
    {
      "cell_type": "code",
      "source": [
        "from sklearn.metrics import silhouette_score, silhouette_samples\n",
        "\n",
        "clursters_range = range(2,10)\n",
        "results = []\n",
        "\n",
        "for k in clursters_range:\n",
        "  kmeans = KMeans (init='k-means++',n_clusters=k, n_init=100, random_state=0)\n",
        "  cluster_labels = kmeans.fit_predict(WHDataset)\n",
        "  silhouette_avg = silhouette_score(WHDataset, cluster_labels)\n",
        "  results.append([k, silhouette_avg])\n",
        "\n",
        "result = pd.DataFrame(results, columns=['n_clusters','silhouette_score'])\n",
        "pivot_km = pd.pivot_table(result, index='n_clusters', values='silhouette_score')\n",
        "\n",
        "plt.figure()\n",
        "sns.heatmap(pivot_km, annot=True, linewidths=0.5, fmt='0.3f', cmap=sns.cm.rocket_r)\n",
        "plt.tight_layout()"
      ],
      "metadata": {
        "colab": {
          "base_uri": "https://localhost:8080/",
          "height": 297
        },
        "id": "9vscyUUT5oA3",
        "outputId": "8b65f939-bf17-4192-c40a-b156316b256c"
      },
      "execution_count": 16,
      "outputs": [
        {
          "output_type": "display_data",
          "data": {
            "text/plain": [
              "<Figure size 432x288 with 2 Axes>"
            ],
            "image/png": "[encoded data removed]"
          },
          "metadata": {
            "needs_background": "light"
          }
        }
      ]
    },
    {
      "cell_type": "markdown",
      "source": [
        "# **2. Gaussian mixture models**\n",
        "## Using existing library sklearn.mixture.GaussianMixture"
      ],
      "metadata": {
        "id": "sYy61BwF-kQ2"
      }
    },
    {
      "cell_type": "code",
      "source": [
        "from sklearn.mixture import GaussianMixture \n",
        "gmm = GaussianMixture(n_components = 4) \n",
        "gmm.fit(WHDataset)"
      ],
      "metadata": {
        "colab": {
          "base_uri": "https://localhost:8080/"
        },
        "id": "BqnBvqw6Inil",
        "outputId": "95579c0c-f040-41ad-fd69-60c647cb858c"
      },
      "execution_count": 17,
      "outputs": [
        {
          "output_type": "execute_result",
          "data": {
            "text/plain": [
              "GaussianMixture(n_components=4)"
            ]
          },
          "metadata": {},
          "execution_count": 17
        }
      ]
    },
    {
      "cell_type": "code",
      "source": [
        "# Visualizing the clustering \n",
        "plt.scatter(WHDataset['Weight'], WHDataset['Height'],  \n",
        "           c = GaussianMixture(n_components = 4).fit_predict(WHDataset), cmap =\"rainbow\") \n",
        "plt.show() \n",
        "# better than KMeans"
      ],
      "metadata": {
        "id": "ujzEd3k_-_p4",
        "colab": {
          "base_uri": "https://localhost:8080/",
          "height": 265
        },
        "outputId": "a3226fd7-de2b-4845-8ba5-878fda6bb22a"
      },
      "execution_count": 18,
      "outputs": [
        {
          "output_type": "display_data",
          "data": {
            "text/plain": [
              "<Figure size 432x288 with 1 Axes>"
            ],
            "image/png": "[encoded data removed]"
          },
          "metadata": {
            "needs_background": "light"
          }
        }
      ]
    },
    {
      "cell_type": "markdown",
      "source": [
        "Draw ellipse"
      ],
      "metadata": {
        "id": "vNCp_nghYOhl"
      }
    },
    {
      "cell_type": "code",
      "source": [
        "\n",
        "from matplotlib.patches import Ellipse\n",
        "\n",
        "def draw_ellipse(position, covariance, ax=None, **kwargs):\n",
        "    \"\"\"Draw an ellipse with a given position and covariance\"\"\"\n",
        "    ax = ax or plt.gca()\n",
        "    \n",
        "    # Convert covariance to principal axes\n",
        "    if covariance.shape == (2, 2):\n",
        "        U, s, Vt = np.linalg.svd(covariance)\n",
        "        angle = np.degrees(np.arctan2(U[1, 0], U[0, 0]))\n",
        "        width, height = 2 * np.sqrt(s)\n",
        "    else:\n",
        "        angle = 0\n",
        "        width, height = 2 * np.sqrt(covariance)\n",
        "    \n",
        "    # Draw the Ellipse\n",
        "    for nsig in range(1, 4):\n",
        "        ax.add_patch(Ellipse(position, nsig * width, nsig * height,\n",
        "                             angle, **kwargs))\n",
        "        \n",
        "def plot_gmm(gmm, X, label=True, ax=None):\n",
        "    ax = ax or plt.gca()\n",
        "    labels = gmm.fit(X).predict(X)\n",
        "    if label:\n",
        "        ax.scatter(X[\"Weight\"], X[\"Height\"], c=labels, s=40, cmap='rainbow', zorder=2)\n",
        "    else:\n",
        "        ax.scatter(X[\"Weight\"], X[\"Height\"], s=40, zorder=2)\n",
        "    ax.axis('equal')\n",
        "    \n",
        "    w_factor = 0.2 / gmm.weights_.max()\n",
        "    for pos, covar, w in zip(gmm.means_, gmm.covariances_, gmm.weights_):\n",
        "        draw_ellipse(pos, covar, alpha=w * w_factor)"
      ],
      "metadata": {
        "id": "jLzJe7CJN-aq"
      },
      "execution_count": 19,
      "outputs": []
    },
    {
      "cell_type": "code",
      "source": [
        "plot_gmm(gmm, WHDataset)"
      ],
      "metadata": {
        "colab": {
          "base_uri": "https://localhost:8080/",
          "height": 265
        },
        "id": "qnUtPq3WOVGG",
        "outputId": "c9615cad-b3ff-4591-a37a-9d52b1068044"
      },
      "execution_count": 20,
      "outputs": [
        {
          "output_type": "display_data",
          "data": {
            "text/plain": [
              "<Figure size 432x288 with 1 Axes>"
            ],
            "image/png": "[encoded data removed]"
          },
          "metadata": {
            "needs_background": "light"
          }
        }
      ]
    },
    {
      "cell_type": "markdown",
      "metadata": {
        "id": "uY0kzI4igZtX"
      },
      "source": [
        "# Programming Assignment (PA)\n",
        "* Implement your own K-Means function\n",
        "* Implement you own EM algorithm for GMM"
      ]
    },
    {
      "cell_type": "markdown",
      "source": [
        "## K-Means from scratch"
      ],
      "metadata": {
        "id": "il7tBd2OJyR2"
      }
    },
    {
      "cell_type": "code",
      "metadata": {
        "id": "e9i526jygfDn"
      },
      "source": [
        "# Implement your own K-Means function\n",
        "class MyKMeans:  \n",
        "  cluster_labels = None\n",
        "  centroids = None\n",
        "\n",
        "  def fit(self, X, k):\n",
        "    if isinstance(X, pd.DataFrame):\n",
        "      X = X.values\n",
        "\n",
        "    centroidsChanged = 1\n",
        "    self.cluster_labels = np.zeros(X.shape[0]) \n",
        "\n",
        "    # select k random centroids\n",
        "    # TO-DO: #############################################\n",
        "    random.seed(123)\n",
        "    self.centroids = WHDataset.sample(n=k).values\n",
        "    #######################################################\n",
        "    \n",
        "\n",
        "    while centroidsChanged:\n",
        "      # TO-DO: #############################################\n",
        "      # for each observation, compute the distances to current centroids and update the centroids\n",
        "      for i, row in enumerate(X):\n",
        "        min_distance =  float('inf')\n",
        "        for index_centroid, centroid in enumerate(self.centroids):\n",
        "            distance = np.sqrt((centroid[0] - row[0])**2 + (centroid[1] - row[1])**2)\n",
        "\n",
        "            if min_distance > distance:\n",
        "              min_distance = distance\n",
        "              self.cluster_labels[i] = index_centroid\n",
        "\n",
        "      new_centroids = pd.DataFrame(X).groupby(by=self.cluster_labels).mean().values\n",
        "      ###############################################################\n",
        "      # if centroids are same then leave\n",
        "      if np.count_nonzero(self.centroids - new_centroids) == 0:\n",
        "        centroidsChanged = 0\n",
        "      else:\n",
        "        self.centroids = new_centroids\n",
        "    \n",
        "    return self.centroids, self.cluster_labels  \n",
        "\n"
      ],
      "execution_count": 26,
      "outputs": []
    },
    {
      "cell_type": "markdown",
      "source": [
        "Test your code"
      ],
      "metadata": {
        "id": "z5I-SVcm-lXD"
      }
    },
    {
      "cell_type": "code",
      "source": [
        "mykmeans = MyKMeans()\n",
        "centroids, clusters = mykmeans.fit(WHDataset,4)\n",
        "print (centroids, clusters)"
      ],
      "metadata": {
        "id": "hBoqqLyH-nqB",
        "colab": {
          "base_uri": "https://localhost:8080/"
        },
        "outputId": "634329b0-4f1b-49c1-f67e-75d7ec557164"
      },
      "execution_count": 27,
      "outputs": [
        {
          "output_type": "stream",
          "name": "stdout",
          "text": [
            "[[ 53.60029808 162.76478198]\n",
            " [ 60.6784516  169.339586  ]\n",
            " [ 67.56197108 176.02969285]\n",
            " [ 63.63411782 170.11006945]] [2. 2. 1. 1. 2. 1. 3. 1. 3. 0. 3. 2. 3. 0. 1. 1. 2. 1. 0. 1. 1. 2. 3. 0.\n",
            " 1. 0. 2. 3. 0. 1. 3. 3. 2. 3. 3. 2. 0. 3. 0. 2. 0. 3. 1. 2. 3. 2. 3. 1.\n",
            " 2. 2. 0. 0. 3. 3. 1. 3. 3. 0. 0. 2. 2. 0. 2. 2. 2. 3. 1. 2. 1. 3. 0. 1.\n",
            " 0. 2. 0. 2. 3. 3. 1. 1. 0. 1. 0. 3. 1. 3. 0. 0. 2. 0. 0. 0. 2. 0. 1. 1.\n",
            " 2. 2. 2. 1. 0. 0. 2. 0. 1. 1. 1. 2. 1. 0. 0. 3. 0. 0. 2. 0. 2. 1. 3. 2.\n",
            " 3. 0. 2. 2. 0. 2. 2. 2. 2. 0. 1. 0. 3. 0. 0. 0. 1. 2. 1. 3. 2. 2. 2. 2.\n",
            " 3. 0. 3. 1. 3. 0. 0. 2. 1. 1. 1. 3. 3. 2. 1. 1. 2. 1. 2. 2. 3. 3. 2. 1.\n",
            " 0. 3. 2. 0. 2. 3. 3. 0. 3. 0. 0. 0. 2. 2. 3. 1. 1. 0. 3. 2. 3. 0. 2. 3.\n",
            " 0. 3. 3. 0. 1. 1. 1. 0. 0. 1. 1. 3. 1. 3. 3. 1. 3. 3. 1. 2. 2. 2. 1. 2.\n",
            " 3. 0. 0. 0. 3. 2. 3. 0. 3. 2. 0. 1. 0. 1. 3. 3. 1. 3. 1. 3. 1. 3. 0. 2.\n",
            " 2. 3. 1. 2. 0. 0. 1. 2. 1. 3. 1. 3. 2. 0. 1. 0. 0. 3. 0. 3. 1. 1. 2. 0.\n",
            " 2. 2. 1. 1. 0. 2. 1. 0. 2. 1. 2. 0. 1. 3. 1. 2. 2. 1. 2. 1. 2. 1. 3. 2.\n",
            " 1. 1. 1. 2. 0. 0. 2. 0. 0. 0. 1. 2. 2. 0. 3. 0. 2. 2. 3. 0. 0. 1. 0. 3.\n",
            " 2. 3. 0. 3. 0. 1. 3. 1. 1. 1. 3. 1. 0. 2. 1. 3. 0. 2. 1. 1. 2. 2. 3. 2.\n",
            " 3. 1. 1. 1. 0. 2. 2. 3. 3. 1. 2. 2. 2. 2. 1. 2. 1. 2. 1. 1. 0. 3. 1. 0.\n",
            " 0. 1. 1. 2. 2. 3. 3. 2. 1. 0. 1. 1. 1. 0. 1. 1. 1. 0. 0. 1. 0. 0. 1. 0.\n",
            " 0. 3. 1. 3. 3. 0. 0. 0. 0. 2. 0. 2. 1. 2. 0. 1. 2. 1. 2. 1. 1. 3. 0. 1.\n",
            " 0. 3. 3. 2. 0. 3. 1. 2. 0. 3. 3. 1. 2. 1. 2. 3. 2. 3. 2. 0. 1. 2. 0. 2.\n",
            " 1. 3. 3. 3. 2. 0. 1. 1. 3. 2. 2. 1. 1. 3. 1. 1. 0. 2. 1. 2. 0. 1. 3. 3.\n",
            " 0. 3. 1. 0. 3. 3. 3. 3. 3. 1. 0. 2. 3. 2. 1. 2. 1. 0. 1. 0. 3. 0. 1. 0.\n",
            " 1. 3. 3. 0. 3. 1. 1. 0. 2. 3. 1. 0. 3. 1. 1. 1. 2. 0. 0. 1.]\n"
          ]
        }
      ]
    },
    {
      "cell_type": "code",
      "source": [
        "# plot clusters in different colors, and compare with the result using built-in kmeans\n",
        "data_with_clusters = WHDataset.copy()\n",
        "data_with_clusters['Clusters'] = clusters \n",
        "plt.scatter(data_with_clusters['Weight'],data_with_clusters['Height'],c=data_with_clusters['Clusters'],cmap='rainbow')\n"
      ],
      "metadata": {
        "id": "SCBFy8BvHbUH",
        "colab": {
          "base_uri": "https://localhost:8080/",
          "height": 282
        },
        "outputId": "7ea0bf7b-af05-4c95-f903-54334d37f610"
      },
      "execution_count": 28,
      "outputs": [
        {
          "output_type": "execute_result",
          "data": {
            "text/plain": [
              "<matplotlib.collections.PathCollection at 0x7fd6c0b6ccd0>"
            ]
          },
          "metadata": {},
          "execution_count": 28
        },
        {
          "output_type": "display_data",
          "data": {
            "text/plain": [
              "<Figure size 432x288 with 1 Axes>"
            ],
            "image/png": "[encoded data removed]"
          },
          "metadata": {
            "needs_background": "light"
          }
        }
      ]
    },
    {
      "cell_type": "markdown",
      "source": [
        "## GMM from scratch"
      ],
      "metadata": {
        "id": "LLxwEILMJ5Rf"
      }
    },
    {
      "cell_type": "code",
      "source": [
        "from scipy.stats import multivariate_normal \n",
        "\n",
        "class MyGMM:\n",
        "    def __init__(self, k, max_iter=5):\n",
        "        self.k = k\n",
        "        self.max_iter = int(max_iter) \n",
        "\n",
        "    def initialize(self, X):\n",
        "        # convert pd.dataframe to np.array\n",
        "        X = X.to_numpy()\n",
        "        # returns the (r,c) value of the numpy array of X\n",
        "        self.shape = X.shape \n",
        "        # n has the number of rows while m has the number of columns of dataset X\n",
        "        self.n, self.m = self.shape \n",
        "        \n",
        "\n",
        "        # initial weights given to each cluster are stored in phi or P(Ci=j)\n",
        "        self.phi = np.full(shape=self.k, fill_value=1/self.k) \n",
        "\n",
        "        # initial weights given to each data point wrt to each cluster or P(Xi/Ci=j)\n",
        "        self.probs = np.full(shape=self.shape, fill_value=1/self.k)\n",
        "        \n",
        "        # dataset is divided randomly into k parts of unequal sizes\n",
        "        random_row = np.random.randint(low=0, high=self.n, size=self.k)\n",
        "\n",
        "        # initial value of mean of k Gaussians\n",
        "        self.mu = [  X[row_index,:] for row_index in random_row ] \n",
        "\n",
        "        # initial value of covariance matrix of k Gaussians\n",
        "        self.sigma = [ np.cov(X.T) for _ in range(self.k) ] \n",
        "        # theta =(mu1,sigma1,mu2,simga2......muk,sigmak)\n",
        "\n",
        "    # E-Step: update weights and phi holding mu and sigma constant\n",
        "    def e_step(self, X):\n",
        "        # updated weights or P(Xi/Ci=j)\n",
        "        self.probs = self.predict_proba(X) # you need to implement \"predic_proba\" function below\n",
        "        # mean of sum of probability of all data points wrt to one cluster is new updated probability of cluster k or (phi)k\n",
        "        self.phi = self.probs.mean(axis=0)\n",
        "        \n",
        "\n",
        "    # M-Step: update meu and sigma holding phi and weights constant\n",
        "    def m_step(self, X):\n",
        "        for i in range(self.k):\n",
        "            # TO-DO: #############################################\n",
        "            probs = self.probs[:, [i]]\n",
        "            total_probs = probs.sum()\n",
        "\n",
        "            self.mu[i] = (X * probs).sum(axis=0) / total_probs\n",
        "            self.sigma[i] = np.cov(X.T, \n",
        "                aweights=(probs/total_probs).flatten(), \n",
        "                bias=True)\n",
        "            #########################################################\n",
        "\n",
        "    # responsible for clustering the data points correctly\n",
        "    def fit(self, X):\n",
        "        # initialise parameters like weights, phi, meu, sigma of all Gaussians in dataset X\n",
        "        self.initialize(X)\n",
        "\n",
        "        for iteration in range(self.max_iter):\n",
        "            # iterate to update the value of P(Xi/Ci=j) and (phi)k\n",
        "            self.e_step(X)\n",
        "            # iterate to update the value of meu and sigma as the clusters shift\n",
        "            self.m_step(X)\n",
        "            \n",
        "    # TO-DO: #############################################\n",
        "    # predicts probability of each data point wrt each cluster\n",
        "    def predict_proba(self, X):\n",
        "        # Creates a n*k matrix denoting probability of each point wrt each cluster \n",
        "        likelihood = np.zeros( (self.n, self.k) )\n",
        "        for i in range(self.k):\n",
        "          distribution = multivariate_normal(mean=self.mu[i], cov=self.sigma[i])\n",
        "          likelihood[:,i] = distribution.pdf(X)\n",
        "        \n",
        "        numerator = likelihood * self.phi\n",
        "        denominator = numerator.sum(axis=1)[:, np.newaxis]\n",
        "        probs = numerator / denominator\n",
        "        \n",
        "\n",
        "        return probs\n",
        "    ###############################################################\n",
        "    \n",
        "    \n",
        "    # predict function \n",
        "    def predict(self, X):\n",
        "        probs = self.predict_proba(X)\n",
        "        # datapoint belongs to cluster with maximum probability\n",
        "        # returns this value\n",
        "        return np.argmax(probs, axis=1)"
      ],
      "metadata": {
        "id": "h7FyMp2xJ9Dc"
      },
      "execution_count": 31,
      "outputs": []
    },
    {
      "cell_type": "markdown",
      "source": [
        "Try MyGMM"
      ],
      "metadata": {
        "id": "UfMboahzScmR"
      }
    },
    {
      "cell_type": "code",
      "source": [
        "mygmm = MyGMM(k=4, max_iter=100)\n",
        "mygmm.fit(WHDataset)"
      ],
      "metadata": {
        "id": "LFxVuyg7ScAo"
      },
      "execution_count": 32,
      "outputs": []
    },
    {
      "cell_type": "code",
      "source": [
        "# plot mygmm result\n",
        "def plot_mygmm(mygmm, X, label=True, ax=None):\n",
        "    ax = ax or plt.gca()\n",
        "    labels = mygmm.predict(X)\n",
        "  \n",
        "    if label:\n",
        "        ax.scatter(X[\"Weight\"], X[\"Height\"], c=labels, s=40, cmap='rainbow', zorder=2)\n",
        "    else:\n",
        "        ax.scatter(X[\"Weight\"], X[\"Height\"], s=40, zorder=2)\n",
        "    ax.axis('equal')\n",
        "    \n",
        "    w_factor = 0.3 / mygmm.phi.max()\n",
        "    for pos, covar, w in zip(mygmm.mu, mygmm.sigma, mygmm.phi):\n",
        "        draw_ellipse(pos, covar, alpha=w * w_factor)\n",
        "\n",
        "plot_mygmm(mygmm, WHDataset)"
      ],
      "metadata": {
        "id": "g0A_mawCTrNU",
        "colab": {
          "base_uri": "https://localhost:8080/",
          "height": 265
        },
        "outputId": "3a69e6ea-0d60-4377-ca8c-c88ee1a05533"
      },
      "execution_count": 33,
      "outputs": [
        {
          "output_type": "display_data",
          "data": {
            "text/plain": [
              "<Figure size 432x288 with 1 Axes>"
            ],
            "image/png": "[encoded data removed]"
          },
          "metadata": {
            "needs_background": "light"
          }
        }
      ]
    }
  ]
}